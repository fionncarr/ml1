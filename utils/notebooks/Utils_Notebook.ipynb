{
 "cells": [
  {
   "cell_type": "markdown",
   "metadata": {},
   "source": [
    "### Load in utils functions"
   ]
  },
  {
   "cell_type": "code",
   "execution_count": 1,
   "metadata": {},
   "outputs": [],
   "source": [
    "\\l ../../ml.q\n",
    ".ml.loadfile`:utils/init.q"
   ]
  },
  {
   "cell_type": "code",
   "execution_count": 2,
   "metadata": {},
   "outputs": [
    {
     "data": {
      "text/plain": [
       "x        x1 x2  x3      \n",
       "------------------------\n",
       "3455.276 1  999 12.30845\n",
       "7933.981 2  998 61.03279\n",
       "2514.913 3  997 2.814231\n",
       "4154.687 4  996 54.86936\n",
       "5158.35  5  995 56.59052\n"
      ]
     },
     "execution_count": 2,
     "metadata": {},
     "output_type": "execute_result"
    },
    {
     "data": {
      "text/plain": [
       "sym  time                 x        x1 x2  x3       \n",
       "---------------------------------------------------\n",
       "mmib 0D00:00:01.826405818 9381.123 1  999 86.19983 \n",
       "mkli 0D00:00:10.065060686 1335.608 2  998 71.78646 \n",
       "piel 0D00:00:11.097194077 1155.152 3  997 67.29624 \n",
       "mank 0D00:00:13.213437027 3288.032 4  996 0.3079086\n",
       "hfni 0D00:00:13.668105890 3387.841 5  995 76.41682 \n"
      ]
     },
     "execution_count": 2,
     "metadata": {},
     "output_type": "execute_result"
    }
   ],
   "source": [
    "n:1000\n",
    "xf:1000?100f\n",
    "yf:1000?100f\n",
    "xb:010010101011111010110111b\n",
    "yb:000000000001000000111000b\n",
    "xroc:rand each 1000#0b\n",
    "yroc:asc 1000?1f\n",
    "5#table:([]x:n?10000f;x1:1+til n;x2:reverse til n;x3:n?100f)\n",
    "5#complextable:([]sym:n?`4;time:asc n?0D00:59:00.000;x:n?10000f;x1:1+til n;x2:reverse til n;x3:n?100f)"
   ]
  },
  {
   "cell_type": "markdown",
   "metadata": {},
   "source": [
    "### stats.q Examples"
   ]
  },
  {
   "cell_type": "markdown",
   "metadata": {},
   "source": [
    "The functions contained in this script are related to the production of statistics from the outputs from machine learning algorithms. Here are a number of examples of their application."
   ]
  },
  {
   "cell_type": "code",
   "execution_count": 3,
   "metadata": {},
   "outputs": [
    {
     "data": {
      "text/plain": [
       "  | x          x1         x2          x3         \n",
       "- | ---------------------------------------------\n",
       "x | 1          -0.0162072 0.0162072   0.03213823 \n",
       "x1| -0.0162072 1          -1          0.01134946 \n",
       "x2| 0.0162072  -1         1           -0.01134946\n",
       "x3| 0.03213823 0.01134946 -0.01134946 1          \n"
      ]
     },
     "execution_count": 3,
     "metadata": {},
     "output_type": "execute_result"
    },
    {
     "data": {
      "text/plain": [
       "     | x        x1       x2       x3       \n",
       "-----| ------------------------------------\n",
       "count| 1000     1000     1000     1000     \n",
       "mean | 4953.491 500.5    499.5    49.77201 \n",
       "std  | 2890.066 288.8194 288.8194 28.91279 \n",
       "min  | 7.908894 1        0        0.1122762\n",
       "q1   | 2491.828 250.75   249.75   24.38531 \n",
       "q2   | 5000.222 500.5    499.5    49.96016 \n",
       "q3   | 7453.287 750.25   749.25   74.98685 \n",
       "max  | 9994.308 1000     999      99.98165 \n"
      ]
     },
     "execution_count": 3,
     "metadata": {},
     "output_type": "execute_result"
    },
    {
     "data": {
      "text/plain": [
       "0| 8 12\n",
       "1| 1 3 \n"
      ]
     },
     "execution_count": 3,
     "metadata": {},
     "output_type": "execute_result"
    }
   ],
   "source": [
    "/ correlation matrix\n",
    ".ml.utils.corrmat[table]\n",
    "/ get descriptive statistics for a table\n",
    ".ml.utils.describe[table]\n",
    "/ given classification labels and predictions we can produce a 2x2 confusion matrix.  \n",
    ".ml.utils.confmat[xb;yb]"
   ]
  },
  {
   "cell_type": "code",
   "execution_count": 4,
   "metadata": {},
   "outputs": [
    {
     "name": "stdout",
     "output_type": "stream",
     "text": [
      "Precision of the calculation is: 0.2\n",
      "Specificity of the calculation is: 0.4\n",
      "Sensitivity of the calculation is: 0.75\n",
      "Accuracy of the calculation is: 0.4583333\n",
      "Calculation of mean-squared error: 1648.344\n",
      "Calculation of sum-squared error: 1648344\n",
      "This is the t-score for two independent samples with unequal variances: 0.6049928\n",
      "Calculate the area under an ROC curve for diagnostics for a binary classifier: 0.49934\n"
     ]
    }
   ],
   "source": [
    "/ the following are a subset of the functions which can be used to compare predictions to real results.\n",
    "-1\"Precision of the calculation is: \",string .ml.utils.precision[xb;yb;1b];\n",
    "-1\"Specificity of the calculation is: \",string .ml.utils.specificity[xb;yb;1b];\n",
    "-1\"Sensitivity of the calculation is: \",string .ml.utils.sensitivity[xb;yb;1b];\n",
    "-1\"Accuracy of the calculation is: \",string .ml.utils.accuracy[xb;yb];\n",
    "-1\"Calculation of mean-squared error: \",string .ml.utils.mse[xf;yf];\n",
    "-1\"Calculation of sum-squared error: \",string .ml.utils.sse[xf;yf];\n",
    "-1\"This is the t-score for two independent samples with unequal variances: \",string .ml.utils.tscoreeq[xf;yf];\n",
    "-1\"Calculate the area under an ROC curve for diagnostics for a binary classifier: \",string .ml.utils.rocaucscore[xroc;yroc];"
   ]
  },
  {
   "cell_type": "markdown",
   "metadata": {},
   "source": [
    "### funcs.q Examples"
   ]
  },
  {
   "cell_type": "markdown",
   "metadata": {},
   "source": [
    "Conversions of pandas dataframes to q tables and vice-versa"
   ]
  },
  {
   "cell_type": "code",
   "execution_count": 5,
   "metadata": {},
   "outputs": [
    {
     "name": "stdout",
     "output_type": "stream",
     "text": [
      "             x  x1   x2         x3\n",
      "0  3455.276149   1  999  12.308453\n",
      "1  7933.980743   2  998  61.032792\n",
      "2  2514.913306   3  997   2.814231\n",
      "3  4154.686674   4  996  54.869356\n",
      "4  5158.350274   5  995  56.590523\n",
      "5  7083.205539   6  994  16.680499\n",
      "6  9138.481687   7  993  52.008451\n",
      "7  9145.908495   8  992  95.254735\n",
      "8  6715.353606   9  991  93.561197\n",
      "9   884.439801  10  990   2.615358\n"
     ]
    }
   ],
   "source": [
    "/ conversion of q table to pandas dataframe\n",
    "dftab:.ml.utils.tab2df[10#table]\n",
    "print dftab"
   ]
  },
  {
   "cell_type": "code",
   "execution_count": 6,
   "metadata": {},
   "outputs": [
    {
     "data": {
      "text/plain": [
       "x        x1 x2  x3      \n",
       "------------------------\n",
       "3455.276 1  999 12.30845\n",
       "7933.981 2  998 61.03279\n",
       "2514.913 3  997 2.814231\n",
       "4154.687 4  996 54.86936\n",
       "5158.35  5  995 56.59052\n"
      ]
     },
     "execution_count": 6,
     "metadata": {},
     "output_type": "execute_result"
    }
   ],
   "source": [
    "/ conversion back to q table from pandas dataframe\n",
    "5#.ml.utils.df2tab dftab"
   ]
  },
  {
   "cell_type": "code",
   "execution_count": 7,
   "metadata": {},
   "outputs": [
    {
     "data": {
      "text/plain": [
       "sym time                 x        x1 x2  x3       \n",
       "--------------------------------------------------\n",
       "0   0D00:00:01.826405818 9381.123 1  999 86.19983 \n",
       "1   0D00:00:10.065060686 1335.608 2  998 71.78646 \n",
       "2   0D00:00:11.097194077 1155.152 3  997 67.29624 \n",
       "3   0D00:00:13.213437027 3288.032 4  996 0.3079086\n",
       "4   0D00:00:13.668105890 3387.841 5  995 76.41682 \n"
      ]
     },
     "execution_count": 7,
     "metadata": {},
     "output_type": "execute_result"
    }
   ],
   "source": [
    "/ convert the symbols within the table to an enumeration ()\n",
    "5#enumtab:.ml.utils.enum complextable"
   ]
  },
  {
   "cell_type": "code",
   "execution_count": 8,
   "metadata": {},
   "outputs": [
    {
     "data": {
      "text/plain": [
       "sym time        x        x1 x2  x3       \n",
       "-----------------------------------------\n",
       "0   1826405818  9381.123 1  999 86.19983 \n",
       "1   10065060686 1335.608 2  998 71.78646 \n",
       "2   11097194077 1155.152 3  997 67.29624 \n",
       "3   13213437027 3288.032 4  996 0.3079086\n",
       "4   13668105890 3387.841 5  995 76.41682 \n"
      ]
     },
     "execution_count": 8,
     "metadata": {},
     "output_type": "execute_result"
    }
   ],
   "source": [
    "/ convert times to longs\n",
    "5#t2long:.ml.utils.times2long[enumtab]"
   ]
  },
  {
   "cell_type": "code",
   "execution_count": 9,
   "metadata": {},
   "outputs": [
    {
     "data": {
      "text/plain": [
       "xtrain| 36.15143 19.58467 77.58173 54.97936 69.9044 38.39461 88.25151 39.7576..\n",
       "ytrain| 55.37373 44.20741 5.110413 16.34049 66.20432 84.75023 64.68219 30.571..\n",
       "xtest | 31.64413 28.5799 72.48355 95.48708 80.50147 49.62382 26.20215 1.56385..\n",
       "ytest | 97.71186 71.99879 18.20468 7.787298 75.79171 73.43714 81.1176 24.3663..\n"
      ]
     },
     "execution_count": 9,
     "metadata": {},
     "output_type": "execute_result"
    },
    {
     "data": {
      "text/plain": [
       "xtrain| 70.43314 57.78177 36.67275 18.56475 95.50901 20.11578 94.52199 55.655..\n",
       "ytrain| 75.56175 40.01745 45.79215 14.04364 12.74362 90.18013 64.11941 2.3588..\n",
       "xtest | 27.44944 4.164985 79.19793 1.280633 65.35973 20.73435 53.39515 72.274..\n",
       "ytest | 48.61721 73.51245 49.86128 34.66436 11.76313 50.79442 16.5771 67.1711..\n"
      ]
     },
     "execution_count": 9,
     "metadata": {},
     "output_type": "execute_result"
    }
   ],
   "source": [
    "/ the following are the functions available to compute splitting of data into a train and test set\n",
    ".ml.utils.traintestsplit[xf;yf;0.2]\n",
    "/ this can also be 'seeded' in order to force the same splitting for multiple datasets\n",
    ".ml.utils.traintestsplitseed[xf;yf;0.1;42]"
   ]
  },
  {
   "cell_type": "markdown",
   "metadata": {},
   "source": [
    "the functions below are used for the interogation of data and the creation of arrays."
   ]
  },
  {
   "cell_type": "code",
   "execution_count": 10,
   "metadata": {},
   "outputs": [
    {
     "data": {
      "text/plain": [
       "0 2.5 5 7.5 10 12.5 15 17.5 20 22.5 25 27.5 30 32.5 35 37.5 40 42.5 45 47.5 5..\n"
      ]
     },
     "execution_count": 10,
     "metadata": {},
     "output_type": "execute_result"
    },
    {
     "data": {
      "text/plain": [
       "0 0.02512563 0.05025126 0.07537688 0.1005025 0.1256281 0.1507538 0.1758794 0...\n"
      ]
     },
     "execution_count": 10,
     "metadata": {},
     "output_type": "execute_result"
    },
    {
     "data": {
      "text/plain": [
       "sym | 11\n",
       "time| 16\n",
       "x   | 9\n",
       "x1  | 7\n",
       "x2  | 7\n",
       "x3  | 9\n"
      ]
     },
     "execution_count": 10,
     "metadata": {},
     "output_type": "execute_result"
    },
    {
     "data": {
      "text/plain": [
       "1000 6\n"
      ]
     },
     "execution_count": 10,
     "metadata": {},
     "output_type": "execute_result"
    },
    {
     "data": {
      "text/plain": [
       "x | 9971.215\n",
       "x1| 999\n",
       "x2| 999\n",
       "x3| 99.89498\n"
      ]
     },
     "execution_count": 10,
     "metadata": {},
     "output_type": "execute_result"
    }
   ],
   "source": [
    "/ array creation\n",
    ".ml.utils.arange[0;220;2.5]        / evenly spaced array between 0 and 220 with 2.5 between each data-point\n",
    ".ml.utils.linspace[0;5;200]        / 200 evenly spaced datapoints between 0 and 5\n",
    "/ datatype information\n",
    ".ml.utils.dtypes[complextable]\n",
    "/ matrix shape\n",
    ".ml.utils.shape[flip value t:flip complextable]\n",
    "/ range calculations for numeric values of the 'complex table'\n",
    ".ml.utils.range flip 2_t"
   ]
  },
  {
   "cell_type": "markdown",
   "metadata": {},
   "source": [
    "### preprocess.q examples"
   ]
  },
  {
   "cell_type": "code",
   "execution_count": 11,
   "metadata": {},
   "outputs": [
    {
     "data": {
      "text/plain": [
       "time         x        x1       x2       x3 x4\n",
       "---------------------------------------------\n",
       "00:00:00.003 209.0333 3840.776 5.951947 2    \n",
       "00:00:00.004          8150.623 6.529447 2    \n",
       "00:00:00.006 755.1312 7342.214 8.318315 2    \n",
       "00:00:00.008 372.3322 3640.228 8.341788 2    \n",
       "00:00:00.026 83.0886  6356.158 8.068155 2    \n"
      ]
     },
     "execution_count": 11,
     "metadata": {},
     "output_type": "execute_result"
    }
   ],
   "source": [
    "5#tab:([]time:asc n?00:00:05.000;@[n?1000f;10?100;:;0n];n?10000f;n?10f;n#2;n#0n)"
   ]
  },
  {
   "cell_type": "code",
   "execution_count": 12,
   "metadata": {},
   "outputs": [
    {
     "data": {
      "text/plain": [
       "time          x        x1       x2       x3 x4\n",
       "----------------------------------------------\n",
       "t00:00:00.006 209.0333 3840.776 5.951947 2    \n",
       "t00:00:00.006          8150.623 6.529447 2    \n",
       "t00:00:00.006 755.1312 7342.214 8.318315 2    \n",
       "t00:00:00.008          8150.623 6.529447 2    \n",
       "t00:00:00.008 755.1312 7342.214 8.318315 2    \n"
      ]
     },
     "execution_count": 12,
     "metadata": {},
     "output_type": "execute_result"
    }
   ],
   "source": [
    "/ creates a 'rolled' table with 3 elements per window in order to produce a forecasting frame. \n",
    "5#.ml.utils.tablerolldrop[tab;`time;3]"
   ]
  },
  {
   "cell_type": "code",
   "execution_count": 13,
   "metadata": {},
   "outputs": [
    {
     "data": {
      "text/plain": [
       "x          x1        x2        x3 x4\n",
       "------------------------------------\n",
       "0.2091286  0.3840551 0.5950374      \n",
       "           0.8163077 0.6528172      \n",
       "0.7559122  0.7352289 0.8317964      \n",
       "0.3726326  0.3639412 0.8341449      \n",
       "0.08302585 0.6363332 0.8067675      \n"
      ]
     },
     "execution_count": 13,
     "metadata": {},
     "output_type": "execute_result"
    }
   ],
   "source": [
    "/ produces a min-max scaling of the data by column to enforce values between 0-1 \n",
    "5#.ml.utils.minmaxscaler[flip 1_flip tab]"
   ]
  },
  {
   "cell_type": "code",
   "execution_count": 14,
   "metadata": {},
   "outputs": [
    {
     "data": {
      "text/plain": [
       "x          x1         x2        x3 x4\n",
       "-------------------------------------\n",
       "-1.025089  -0.4274092 0.3359808      \n",
       "           1.0842     0.5366565      \n",
       "0.8793566  0.8006631  1.158271       \n",
       "-0.4556053 -0.4977485 1.166428       \n",
       "-1.464305  0.4548199  1.071343       \n"
      ]
     },
     "execution_count": 14,
     "metadata": {},
     "output_type": "execute_result"
    }
   ],
   "source": [
    "/ creates a standard scaling of the dataset by column (x-avg x)/dev(x)\n",
    "5#.ml.utils.stdscaler[flip 1_flip tab]"
   ]
  },
  {
   "cell_type": "code",
   "execution_count": 15,
   "metadata": {},
   "outputs": [
    {
     "data": {
      "text/plain": [
       "time         x        x1       x2      \n",
       "---------------------------------------\n",
       "00:00:00.003 209.0333 3840.776 5.951947\n",
       "00:00:00.004          8150.623 6.529447\n",
       "00:00:00.006 755.1312 7342.214 8.318315\n",
       "00:00:00.008 372.3322 3640.228 8.341788\n",
       "00:00:00.026 83.0886  6356.158 8.068155\n"
      ]
     },
     "execution_count": 15,
     "metadata": {},
     "output_type": "execute_result"
    }
   ],
   "source": [
    "/ removes all columns that contain no variance (single column value)\n",
    "5#nullfreetab:.ml.utils.dropconstant[tab]"
   ]
  },
  {
   "cell_type": "code",
   "execution_count": 16,
   "metadata": {},
   "outputs": [
    {
     "data": {
      "text/plain": [
       "`x`x4\n"
      ]
     },
     "execution_count": 16,
     "metadata": {},
     "output_type": "execute_result"
    }
   ],
   "source": [
    "/ find columns that contain null values\n",
    ".ml.utils.checknulls[tab]"
   ]
  },
  {
   "cell_type": "code",
   "execution_count": 17,
   "metadata": {},
   "outputs": [
    {
     "data": {
      "text/plain": [
       "time         x        x1       x2       x_x1     x_x2     x1_x2   \n",
       "------------------------------------------------------------------\n",
       "00:00:00.003 209.0333 3840.776 5.951947 802850.1 1244.155 22860.1 \n",
       "00:00:00.004          8150.623 6.529447                   53219.06\n",
       "00:00:00.006 755.1312 7342.214 8.318315 5544335  6281.419 61074.85\n",
       "00:00:00.008 372.3322 3640.228 8.341788 1355374  3105.917 30366.01\n",
       "00:00:00.026 83.0886  6356.158 8.068155 528124.2 670.3717 51282.47\n"
      ]
     },
     "execution_count": 17,
     "metadata": {},
     "output_type": "execute_result"
    }
   ],
   "source": [
    "/ create polynomial features from the initial table, the polynomials can be tuned according to use case\n",
    "5#nullfreetab^.ml.utils.polytab[nullfreetab;2;1]"
   ]
  },
  {
   "cell_type": "code",
   "execution_count": 18,
   "metadata": {},
   "outputs": [
    {
     "data": {
      "text/plain": [
       "time         x        x1       x2       x_x1     x_x2     x1_x2    x_x1_x2     \n",
       "-------------------------------------------------------------------------------\n",
       "00:00:00.003 209.0333 3840.776 5.951947 802850.1 1244.155 22860.1  4778521     \n",
       "00:00:00.004          8150.623 6.529447                   53219.06             \n",
       "00:00:00.006 755.1312 7342.214 8.318315 5544335  6281.419 61074.85 4.611952e+07\n",
       "00:00:00.008 372.3322 3640.228 8.341788 1355374  3105.917 30366.01 1.130624e+07\n",
       "00:00:00.026 83.0886  6356.158 8.068155 528124.2 670.3717 51282.47 4260988     \n"
      ]
     },
     "execution_count": 18,
     "metadata": {},
     "output_type": "execute_result"
    }
   ],
   "source": [
    "/ this produces the powerset of all possible polynomials that could be produced from the table\n",
    "5#.ml.utils.powerset[nullfreetab;1]"
   ]
  },
  {
   "cell_type": "markdown",
   "metadata": {},
   "source": [
    "---"
   ]
  }
 ],
 "metadata": {
  "kernelspec": {
   "display_name": "Q 3.5",
   "language": "q",
   "name": "qpk"
  },
  "language_info": {
   "file_extension": ".q",
   "mimetype": "text/x-q",
   "name": "q",
   "version": "3.5.0"
  }
 },
 "nbformat": 4,
 "nbformat_minor": 2
}
